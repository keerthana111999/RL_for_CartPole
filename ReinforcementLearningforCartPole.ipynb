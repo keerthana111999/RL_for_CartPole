{
  "nbformat": 4,
  "nbformat_minor": 0,
  "metadata": {
    "colab": {
      "provenance": []
    },
    "kernelspec": {
      "name": "python3",
      "display_name": "Python 3"
    },
    "language_info": {
      "name": "python"
    },
    "accelerator": "GPU"
  },
  "cells": [
    {
      "cell_type": "markdown",
      "metadata": {
        "id": "4xMds312GbMU"
      },
      "source": [
        "**1. Importing Dependencies**\n",
        "\n",
        "\n",
        "*  stable_baselines3[extra] \n",
        "\n"
      ]
    },
    {
      "cell_type": "code",
      "metadata": {
        "id": "W890pDdbGNtR"
      },
      "source": [
        "!pip install stable_baselines3[extra]"
      ],
      "execution_count": null,
      "outputs": []
    },
    {
      "cell_type": "code",
      "metadata": {
        "id": "t5wIN3YQGUc5"
      },
      "source": [
        "import os # provides functions for interacting with the operating system\n",
        "import gym    # to  work with pre existng environments\n",
        "from stable_baselines3 import PPO # ppo algorithm\n",
        "from stable_baselines3.common.vec_env import DummyVecEnv \n",
        "from stable_baselines3.common.evaluation import evaluate_policy"
      ],
      "execution_count": null,
      "outputs": []
    },
    {
      "cell_type": "markdown",
      "metadata": {
        "id": "OnlZjQrKyDr7"
      },
      "source": [
        "**2. Loading Environment**"
      ]
    },
    {
      "cell_type": "code",
      "metadata": {
        "id": "lMgbIWpk4fFe"
      },
      "source": [
        "!apt-get install x11-utils > /dev/null 2>&1      # all the dependencies to work render() on colab\n",
        "!pip install pyglet > /dev/null 2>&1 \n",
        "!apt-get install -y xvfb python-opengl > /dev/null 2>&1"
      ],
      "execution_count": null,
      "outputs": []
    },
    {
      "cell_type": "code",
      "metadata": {
        "id": "YWFWDZks4l1T"
      },
      "source": [
        "!pip install gym pyvirtualdisplay > /dev/null 2>&1"
      ],
      "execution_count": null,
      "outputs": []
    },
    {
      "cell_type": "code",
      "metadata": {
        "id": "oMvP8QNW4rfJ"
      },
      "source": [
        "import numpy as np\n",
        "import matplotlib.pyplot as plt\n",
        "from IPython import display as ipythondisplay"
      ],
      "execution_count": null,
      "outputs": []
    },
    {
      "cell_type": "code",
      "metadata": {
        "colab": {
          "base_uri": "https://localhost:8080/"
        },
        "id": "VUn1ZPLn5EZ-",
        "outputId": "022416bf-918f-469a-d6ea-20cd987e70ec"
      },
      "source": [
        "#Defining our display parameters\n",
        "from pyvirtualdisplay import Display\n",
        "display = Display(visible=0, size=(400, 300))\n",
        "display.start()"
      ],
      "execution_count": null,
      "outputs": [
        {
          "output_type": "execute_result",
          "data": {
            "text/plain": [
              "<pyvirtualdisplay.display.Display at 0x7f0b3a507b50>"
            ]
          },
          "metadata": {},
          "execution_count": 6
        }
      ]
    },
    {
      "cell_type": "code",
      "metadata": {
        "id": "xHtFWnc95KTx"
      },
      "source": [
        "environment_name = 'CartPole-v0'   \n",
        "env = gym.make(environment_name)    # creating environment for CartPole"
      ],
      "execution_count": null,
      "outputs": []
    },
    {
      "cell_type": "markdown",
      "metadata": {
        "id": "C8LXt7c07cab"
      },
      "source": [
        "GITHUB Documentation = https://github.com/openai/gym/blob/master/gym/envs/classic_control/cartpole.py"
      ]
    },
    {
      "cell_type": "code",
      "metadata": {
        "colab": {
          "base_uri": "https://localhost:8080/"
        },
        "id": "C70ddRQG7sXX",
        "outputId": "daeb6c5f-606c-4250-f3f6-85fa63adf6c0"
      },
      "source": [
        "env.action_space # 0. left 1. Right"
      ],
      "execution_count": null,
      "outputs": [
        {
          "output_type": "execute_result",
          "data": {
            "text/plain": [
              "Discrete(2)"
            ]
          },
          "metadata": {},
          "execution_count": 8
        }
      ]
    },
    {
      "cell_type": "code",
      "metadata": {
        "colab": {
          "base_uri": "https://localhost:8080/"
        },
        "id": "jgWOIo3_7vQh",
        "outputId": "c2b6fd80-7787-4cc3-9fe0-6fe1572ed616"
      },
      "source": [
        "env.observation_space  # 0.Cart Position  1.Cart Velocity 2.Pole Angle(position) 3. Pole Angle Velocity"
      ],
      "execution_count": null,
      "outputs": [
        {
          "output_type": "execute_result",
          "data": {
            "text/plain": [
              "Box(-3.4028234663852886e+38, 3.4028234663852886e+38, (4,), float32)"
            ]
          },
          "metadata": {},
          "execution_count": 9
        }
      ]
    },
    {
      "cell_type": "code",
      "metadata": {
        "colab": {
          "base_uri": "https://localhost:8080/",
          "height": 269
        },
        "id": "ll0Y63FOyB4N",
        "outputId": "6fcb1a2a-8864-4db1-d405-1f3cf08f3a87"
      },
      "source": [
        "episodes = 5\n",
        "for episode in range(1,episodes+1):       # 5 episodes\n",
        "  state = env.reset()                     # reset env for every episode\n",
        "  done = False\n",
        "  score = 0\n",
        "  while not done:\n",
        "    prev_screen = env.render(mode='rgb_array')  # rendering the env\n",
        "    plt.imshow(prev_screen)\n",
        "    ipythondisplay.clear_output(wait=True)\n",
        "    ipythondisplay.display(plt.gcf())    \n",
        "    action = env.action_space.sample()              # look into the documentation for action_space & observation_space \n",
        "    n_state,reward,done,info = env.step(action)\n",
        "    score += reward\n",
        "  print(\"Episode: {} Score: {}\".format(episode,score))\n",
        "ipythondisplay.clear_output(wait=True)\n",
        "env.close()  \n"
      ],
      "execution_count": null,
      "outputs": [
        {
          "output_type": "display_data",
          "data": {
            "image/png": "[encoded data removed]",
            "text/plain": [
              "<Figure size 432x288 with 1 Axes>"
            ]
          },
          "metadata": {
            "needs_background": "light"
          }
        }
      ]
    },
    {
      "cell_type": "code",
      "metadata": {
        "id": "2flcNJ2q5Y4L"
      },
      "source": [
        "env.close()"
      ],
      "execution_count": null,
      "outputs": []
    },
    {
      "cell_type": "markdown",
      "metadata": {
        "id": "bg4xlzRm81YZ"
      },
      "source": [
        "**3. Training an RL Model**"
      ]
    },
    {
      "cell_type": "markdown",
      "metadata": {
        "id": "PpEuK2EF-jBO"
      },
      "source": [
        "Classification of RL Algorithms: https://spinningup.openai.com/en/latest/spinningup/rl_intro2.html"
      ]
    },
    {
      "cell_type": "markdown",
      "metadata": {
        "id": "b1-lvvHbxrfS"
      },
      "source": [
        "Algorithm must be chosen based on our Actionspace: https://stable-baselines3.readthedocs.io/en/master/guide/algos.html"
      ]
    },
    {
      "cell_type": "code",
      "metadata": {
        "id": "uw5B60ji5bEO"
      },
      "source": [
        "log_path = os.path.join('Training','Logs')  # creating a path to save the training logs\n",
        " "
      ],
      "execution_count": null,
      "outputs": []
    },
    {
      "cell_type": "code",
      "metadata": {
        "colab": {
          "base_uri": "https://localhost:8080/",
          "height": 35
        },
        "id": "kKM4e0bBGZbG",
        "outputId": "6d9c6771-fba8-4139-b59b-9576f2778a31"
      },
      "source": [
        "log_path"
      ],
      "execution_count": null,
      "outputs": [
        {
          "output_type": "execute_result",
          "data": {
            "application/vnd.google.colaboratory.intrinsic+json": {
              "type": "string"
            },
            "text/plain": [
              "'Training/Logs'"
            ]
          },
          "metadata": {},
          "execution_count": 13
        }
      ]
    },
    {
      "cell_type": "code",
      "metadata": {
        "colab": {
          "base_uri": "https://localhost:8080/"
        },
        "id": "ZPz12imPGclB",
        "outputId": "c9867fc5-7f3f-4619-f4d0-3f480ad426fa"
      },
      "source": [
        "env = gym.make(environment_name)\n",
        "env = DummyVecEnv([lambda: env])\n",
        "model = PPO('MlpPolicy',env,verbose=1,tensorboard_log=log_path) #loading the ppo model by passing the required parameters"
      ],
      "execution_count": null,
      "outputs": [
        {
          "output_type": "stream",
          "name": "stdout",
          "text": [
            "Using cuda device\n"
          ]
        }
      ]
    },
    {
      "cell_type": "code",
      "metadata": {
        "id": "AeHxG1ICG83X"
      },
      "source": [
        "model.learn(total_timesteps=30000)  # training the model. Using one command LOL\n",
        "# we can train for how many ever times we want."
      ],
      "execution_count": null,
      "outputs": []
    },
    {
      "cell_type": "markdown",
      "metadata": {
        "id": "SlkXBy_AIfNy"
      },
      "source": [
        "**Save and Reload the Model**\n",
        "\n",
        "\n",
        "\n",
        "*   So if we want to reload the model, for furthur training or testing, it can be done by saving this model and reloading it whenever needed.\n",
        "\n",
        "\n",
        "\n"
      ]
    },
    {
      "cell_type": "code",
      "metadata": {
        "id": "GBHWAUtXHA4D"
      },
      "source": [
        "PPO_path = os.path.join('Training','Saved_Models','PPO_Model_Cartpole')"
      ],
      "execution_count": null,
      "outputs": []
    },
    {
      "cell_type": "code",
      "metadata": {
        "colab": {
          "base_uri": "https://localhost:8080/",
          "height": 35
        },
        "id": "U7mo4Am3JQET",
        "outputId": "7518f746-281d-4d10-a6c6-7b587465078a"
      },
      "source": [
        "PPO_path"
      ],
      "execution_count": null,
      "outputs": [
        {
          "output_type": "execute_result",
          "data": {
            "application/vnd.google.colaboratory.intrinsic+json": {
              "type": "string"
            },
            "text/plain": [
              "'Training/Saved_Models/PPO_Model_Cartpole'"
            ]
          },
          "metadata": {},
          "execution_count": 17
        }
      ]
    },
    {
      "cell_type": "code",
      "metadata": {
        "id": "EVA3M3liJRHk",
        "colab": {
          "base_uri": "https://localhost:8080/"
        },
        "outputId": "db0769dd-815d-4a6c-c8c6-3a4f29609b41"
      },
      "source": [
        "model.save(PPO_path)"
      ],
      "execution_count": null,
      "outputs": [
        {
          "output_type": "stream",
          "name": "stderr",
          "text": [
            "/usr/local/lib/python3.7/dist-packages/stable_baselines3/common/save_util.py:276: UserWarning: Path 'Training/Saved_Models' does not exist. Will create it.\n",
            "  warnings.warn(f\"Path '{path.parent}' does not exist. Will create it.\")\n"
          ]
        }
      ]
    },
    {
      "cell_type": "code",
      "metadata": {
        "id": "_hCAcXwOJUoP"
      },
      "source": [
        "del model #deleting the model to reload it"
      ],
      "execution_count": null,
      "outputs": []
    },
    {
      "cell_type": "code",
      "metadata": {
        "colab": {
          "base_uri": "https://localhost:8080/",
          "height": 167
        },
        "id": "eBplrviVJgNZ",
        "outputId": "76ebc461-cad4-4eea-a47b-6781bb0903c7"
      },
      "source": [
        "model.learn(total_timesteps = 1000)  # we get the error"
      ],
      "execution_count": null,
      "outputs": [
        {
          "output_type": "error",
          "ename": "NameError",
          "evalue": "ignored",
          "traceback": [
            "\u001b[0;31m---------------------------------------------------------------------------\u001b[0m",
            "\u001b[0;31mNameError\u001b[0m                                 Traceback (most recent call last)",
            "\u001b[0;32m<ipython-input-20-ee9db244e426>\u001b[0m in \u001b[0;36m<module>\u001b[0;34m()\u001b[0m\n\u001b[0;32m----> 1\u001b[0;31m \u001b[0mmodel\u001b[0m\u001b[0;34m.\u001b[0m\u001b[0mlearn\u001b[0m\u001b[0;34m(\u001b[0m\u001b[0mtotal_timesteps\u001b[0m \u001b[0;34m=\u001b[0m \u001b[0;36m1000\u001b[0m\u001b[0;34m)\u001b[0m  \u001b[0;31m# we get the error\u001b[0m\u001b[0;34m\u001b[0m\u001b[0;34m\u001b[0m\u001b[0m\n\u001b[0m",
            "\u001b[0;31mNameError\u001b[0m: name 'model' is not defined"
          ]
        }
      ]
    },
    {
      "cell_type": "code",
      "metadata": {
        "id": "skH635KSmuYs"
      },
      "source": [
        "content_path = '/content/PPO_Model_Cartpole.zip'"
      ],
      "execution_count": null,
      "outputs": []
    },
    {
      "cell_type": "code",
      "metadata": {
        "id": "sjn7TTxrJmtb"
      },
      "source": [
        "model = PPO.load(PPO_path,env = env)  #reloading the model"
      ],
      "execution_count": null,
      "outputs": []
    },
    {
      "cell_type": "code",
      "metadata": {
        "colab": {
          "base_uri": "https://localhost:8080/"
        },
        "id": "7lX-M4jZJvHR",
        "outputId": "8f6278f6-7ecb-4258-e288-47e92407a51c"
      },
      "source": [
        "model.learn(total_timesteps = 1000) #again training the already trained model."
      ],
      "execution_count": null,
      "outputs": [
        {
          "output_type": "stream",
          "name": "stdout",
          "text": [
            "Logging to Training/Logs/PPO_3\n",
            "-----------------------------\n",
            "| time/              |      |\n",
            "|    fps             | 615  |\n",
            "|    iterations      | 1    |\n",
            "|    time_elapsed    | 3    |\n",
            "|    total_timesteps | 2048 |\n",
            "-----------------------------\n"
          ]
        },
        {
          "output_type": "execute_result",
          "data": {
            "text/plain": [
              "<stable_baselines3.ppo.ppo.PPO at 0x7f0a2fe4ff10>"
            ]
          },
          "metadata": {},
          "execution_count": 27
        }
      ]
    },
    {
      "cell_type": "code",
      "metadata": {
        "id": "xDESWPDOm3FB"
      },
      "source": [
        "model1 = PPO.load(content_path,env = env)  #reloading the model from  content path"
      ],
      "execution_count": null,
      "outputs": []
    },
    {
      "cell_type": "code",
      "metadata": {
        "colab": {
          "base_uri": "https://localhost:8080/"
        },
        "id": "fmA0_LOXm-pH",
        "outputId": "3603d5bb-bf92-4bcd-cb3c-79f72c54c431"
      },
      "source": [
        "model1.learn(total_timesteps = 2000) #again training the already trained model."
      ],
      "execution_count": null,
      "outputs": [
        {
          "output_type": "stream",
          "name": "stdout",
          "text": [
            "Logging to Training/Logs/PPO_4\n",
            "-----------------------------\n",
            "| time/              |      |\n",
            "|    fps             | 616  |\n",
            "|    iterations      | 1    |\n",
            "|    time_elapsed    | 3    |\n",
            "|    total_timesteps | 2048 |\n",
            "-----------------------------\n"
          ]
        },
        {
          "output_type": "execute_result",
          "data": {
            "text/plain": [
              "<stable_baselines3.ppo.ppo.PPO at 0x7f09cffe5150>"
            ]
          },
          "metadata": {},
          "execution_count": 29
        }
      ]
    },
    {
      "cell_type": "markdown",
      "metadata": {
        "id": "s0QT0kawLkq5"
      },
      "source": [
        "**Evaluation**\n",
        "\n",
        "\n",
        "*  Evaluation metrics are mainly two core values. \n",
        "     1. ep_len_mean = average length of an episode\n",
        "     2. ep_rew_mean = average reward accumulated per episode.\n",
        "*   Reward for cartpole is calculated as 1 point for every step that the pole remains upright. (with a maximum of 200 steps)\n",
        "\n",
        "\n",
        "*   If a pole is more than 15 degrees from vertcal or if cart moves more than 2.4 units, the episode ends\n",
        "\n",
        "\n",
        "\n",
        "\n"
      ]
    },
    {
      "cell_type": "code",
      "metadata": {
        "colab": {
          "base_uri": "https://localhost:8080/"
        },
        "id": "UHG4nNc5Jw8t",
        "outputId": "4961fcf4-e322-45b3-946a-a545caa1788c"
      },
      "source": [
        "# evaluating the model using evaluate_policy from  the stable baselines\n",
        "evaluate_policy(model,env,n_eval_episodes=10)\n",
        "# we can add an other keyword argument \"render = True\" to actually visualize. But it's  not gonna work in colab"
      ],
      "execution_count": null,
      "outputs": [
        {
          "output_type": "stream",
          "name": "stderr",
          "text": [
            "/usr/local/lib/python3.7/dist-packages/stable_baselines3/common/evaluation.py:69: UserWarning: Evaluation environment is not wrapped with a ``Monitor`` wrapper. This may result in reporting modified episode lengths and rewards, if other wrappers happen to modify these. Consider wrapping environment first with ``Monitor`` wrapper.\n",
            "  UserWarning,\n"
          ]
        },
        {
          "output_type": "execute_result",
          "data": {
            "text/plain": [
              "(200.0, 0.0)"
            ]
          },
          "metadata": {},
          "execution_count": 30
        }
      ]
    },
    {
      "cell_type": "code",
      "metadata": {
        "colab": {
          "base_uri": "https://localhost:8080/"
        },
        "id": "ZUykAMy9nFbC",
        "outputId": "5145a2b4-80c8-4ab4-b58c-383a6ecebaae"
      },
      "source": [
        "evaluate_policy(model1,env,n_eval_episodes=10)"
      ],
      "execution_count": null,
      "outputs": [
        {
          "output_type": "stream",
          "name": "stderr",
          "text": [
            "/usr/local/lib/python3.7/dist-packages/stable_baselines3/common/evaluation.py:69: UserWarning: Evaluation environment is not wrapped with a ``Monitor`` wrapper. This may result in reporting modified episode lengths and rewards, if other wrappers happen to modify these. Consider wrapping environment first with ``Monitor`` wrapper.\n",
            "  UserWarning,\n"
          ]
        },
        {
          "output_type": "execute_result",
          "data": {
            "text/plain": [
              "(200.0, 0.0)"
            ]
          },
          "metadata": {},
          "execution_count": 31
        }
      ]
    },
    {
      "cell_type": "code",
      "metadata": {
        "id": "cHc7lIBkNWfp"
      },
      "source": [
        "env.close()"
      ],
      "execution_count": null,
      "outputs": []
    },
    {
      "cell_type": "markdown",
      "metadata": {
        "id": "XFSYMVlYPlFp"
      },
      "source": [
        "**Testing the Model**\n",
        "\n",
        "\n",
        "*   So the same for loop that we have executed in the top is used again. But here, we dont use a sample value. Instead, we use the value predicted by our agent aka model.Look into the return values using ??\n",
        "\n"
      ]
    },
    {
      "cell_type": "code",
      "metadata": {
        "id": "kVV-1Nb4NhH3"
      },
      "source": [
        "PPO?? # ?? for help\n",
        "# copy pasting the same for loop. but passing the model.Predict"
      ],
      "execution_count": null,
      "outputs": []
    },
    {
      "cell_type": "markdown",
      "metadata": {
        "id": "S6-oICj_RjXp"
      },
      "source": [
        "Use jupyter notebook for betterr visualization"
      ]
    },
    {
      "cell_type": "code",
      "metadata": {
        "colab": {
          "base_uri": "https://localhost:8080/"
        },
        "id": "ucypCK7OOo93",
        "outputId": "f89dc20d-978a-4345-d87d-04b6eec0f410"
      },
      "source": [
        "episodes = 5\n",
        "for episode in range(1,episodes+1):       # 5 episodes\n",
        "  obs = env.reset()                     # reset env for every episode\n",
        "  done = False\n",
        "  score = 0\n",
        "  while not done:\n",
        "    #prev_screen = env.render(mode='rgb_array')  # rendering the env\n",
        "    #plt.imshow(prev_screen)\n",
        "    #ipythondisplay.clear_output(wait=True)\n",
        "    #ipythondisplay.display(plt.gcf())    \n",
        "    action , _ = model1.predict(obs)             # predicting the value based on the observation(obs). As it return 2 vals, 2 variables on the left side. \n",
        "    obs,reward,done,info = env.step(action)\n",
        "    score += reward\n",
        "  print(\"Episode: {} Score: {}\".format(episode,score))\n",
        "#ipythondisplay.clear_output(wait=True)\n",
        "env.close()  \n"
      ],
      "execution_count": null,
      "outputs": [
        {
          "output_type": "stream",
          "name": "stdout",
          "text": [
            "Episode: 1 Score: [200.]\n",
            "Episode: 2 Score: [200.]\n",
            "Episode: 3 Score: [200.]\n",
            "Episode: 4 Score: [169.]\n",
            "Episode: 5 Score: [180.]\n"
          ]
        }
      ]
    },
    {
      "cell_type": "markdown",
      "metadata": {
        "id": "qynVYFLgrY_H"
      },
      "source": [
        "**Viewing Logs on the TensorBoard**"
      ]
    },
    {
      "cell_type": "code",
      "metadata": {
        "id": "GGb-X0H3Q--s"
      },
      "source": [
        "training_log_path = os.path.join(log_path,'PPO_1') # we are gonna view log inside PPO_2 on tensor board"
      ],
      "execution_count": null,
      "outputs": []
    },
    {
      "cell_type": "code",
      "metadata": {
        "colab": {
          "base_uri": "https://localhost:8080/",
          "height": 35
        },
        "id": "MioooO2Vr20h",
        "outputId": "485345e4-1059-46b0-ab95-0a3d3fafc279"
      },
      "source": [
        "training_log_path"
      ],
      "execution_count": null,
      "outputs": [
        {
          "output_type": "execute_result",
          "data": {
            "application/vnd.google.colaboratory.intrinsic+json": {
              "type": "string"
            },
            "text/plain": [
              "'Training/Logs/PPO_1'"
            ]
          },
          "metadata": {},
          "execution_count": 40
        }
      ]
    },
    {
      "cell_type": "code",
      "metadata": {
        "colab": {
          "base_uri": "https://localhost:8080/"
        },
        "id": "gYHUHKzqr4WO",
        "outputId": "c5d63e05-dc8c-42a4-d1d2-da7e12d2f0f8"
      },
      "source": [
        "!tensorboard --logdir={training_log_path}"
      ],
      "execution_count": null,
      "outputs": [
        {
          "output_type": "stream",
          "name": "stdout",
          "text": [
            "2021-09-24 07:31:45.459822: I tensorflow/stream_executor/cuda/cuda_gpu_executor.cc:937] successful NUMA node read from SysFS had negative value (-1), but there must be at least one NUMA node, so returning NUMA node zero\n",
            "2021-09-24 07:31:45.469006: I tensorflow/stream_executor/cuda/cuda_gpu_executor.cc:937] successful NUMA node read from SysFS had negative value (-1), but there must be at least one NUMA node, so returning NUMA node zero\n",
            "2021-09-24 07:31:45.469697: I tensorflow/stream_executor/cuda/cuda_gpu_executor.cc:937] successful NUMA node read from SysFS had negative value (-1), but there must be at least one NUMA node, so returning NUMA node zero\n",
            "\n",
            "NOTE: Using experimental fast data loading logic. To disable, pass\n",
            "    \"--load_fast=false\" and report issues on GitHub. More details:\n",
            "    https://github.com/tensorflow/tensorboard/issues/4784\n",
            "\n",
            "Serving TensorBoard on localhost; to expose to the network, use a proxy or pass --bind_all\n",
            "TensorBoard 2.6.0 at http://localhost:6006/ (Press CTRL+C to quit)\n",
            "quit\n",
            "^C\n"
          ]
        }
      ]
    }
  ]
}